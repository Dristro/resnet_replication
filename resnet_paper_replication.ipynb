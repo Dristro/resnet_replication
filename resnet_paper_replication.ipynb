{
 "cells": [
  {
   "cell_type": "code",
   "execution_count": 1,
   "id": "ba7d5ad4-ad75-4151-a10a-328e3a622cf2",
   "metadata": {},
   "outputs": [
    {
     "data": {
      "text/plain": [
       "('2.6.0', '2.2.2', '2.2.3')"
      ]
     },
     "execution_count": 1,
     "metadata": {},
     "output_type": "execute_result"
    }
   ],
   "source": [
    "# Importing a bunch of tools/libs\n",
    "import torch\n",
    "import numpy as np\n",
    "from pathlib import Path\n",
    "import os\n",
    "import matplotlib.pyplot as plt\n",
    "from tqdm.auto import tqdm\n",
    "import pandas as pd\n",
    "\n",
    "torch.__version__, np.__version__, pd.__version__"
   ]
  },
  {
   "cell_type": "markdown",
   "id": "57491c91-a187-490a-8bbe-6c7413431293",
   "metadata": {},
   "source": [
    "# Data\n",
    "\n",
    "Using the tiny-imagenet dataset, found here: http://cs231n.stanford.edu/tiny-imagenet-200.zip\n",
    "\n",
    "Contents:\n",
    "- 200 classes\n",
    "- 500 samples per **train** class\n",
    "- 50 samples per **validation** class\n",
    "- Total file size: 239.7 MB\n",
    "\n",
    "Not using the full ImageNet dataset for compute-time and dataset-size."
   ]
  },
  {
   "cell_type": "markdown",
   "id": "15f4f9a7-0f95-472c-bc22-533da93a03d9",
   "metadata": {
    "jp-MarkdownHeadingCollapsed": true
   },
   "source": [
    "## Load data"
   ]
  },
  {
   "cell_type": "code",
   "execution_count": 2,
   "id": "ce692c36-97d7-4577-8b07-38eb4fc1575d",
   "metadata": {},
   "outputs": [
    {
     "name": "stdout",
     "output_type": "stream",
     "text": [
      "[INFO] Data-dir content: ['.DS_Store', 'test', 'wnids.txt', 'train', 'words.txt', 'val']\n"
     ]
    }
   ],
   "source": [
    "### Setup data-dir\n",
    "current_dir = Path(os.getcwd())\n",
    "data_dir = current_dir.parent.parent / \"datasets\" / \"ImageNet\" / \"data\"  # I save all the datasets in this dir.\n",
    "train_dir = data_dir / \"train\"\n",
    "val_dir = data_dir / \"val\"\n",
    "\n",
    "data_dir_content = os.listdir(data_dir)\n",
    "print(f\"[INFO] Data-dir content: {data_dir_content}\")"
   ]
  },
  {
   "cell_type": "code",
   "execution_count": 3,
   "id": "0694e7d2-f5d7-4aed-aefd-64f10ca82f37",
   "metadata": {},
   "outputs": [
    {
     "name": "stdout",
     "output_type": "stream",
     "text": [
      "[INFO] Loaded class_labels: 200\n",
      "[INFO] Loaded train_data: 100000\n"
     ]
    }
   ],
   "source": [
    "### Training data\n",
    "# Load class labels\n",
    "with open(data_dir/\"wnids.txt\", \"r\") as f:\n",
    "    class_labels = {line.strip(): idx for idx, line in enumerate(f)}\n",
    "print(f\"[INFO] Loaded class_labels: {len(class_labels)}\")\n",
    "\n",
    "# Load data\n",
    "train_data = []\n",
    "for class_id, label in class_labels.items():\n",
    "    class_path = train_dir / class_id / \"images\"\n",
    "    for img in os.listdir(class_path):\n",
    "        train_data.append((class_path/img, label))\n",
    "print(f\"[INFO] Loaded train_data: {len(train_data)}\")"
   ]
  },
  {
   "cell_type": "code",
   "execution_count": 4,
   "id": "37fefce0-ad64-4cba-9049-a7a2b7656eb4",
   "metadata": {},
   "outputs": [
    {
     "name": "stdout",
     "output_type": "stream",
     "text": [
      "[INFO] Loaded val annotations: 10000\n",
      "[INFO] Loaded val data: 10000\n"
     ]
    }
   ],
   "source": [
    "### val data\n",
    "# Load annotations\n",
    "def filter_annotation(annotations):\n",
    "    # Used p much for the val data only\n",
    "    return {\n",
    "        line.split(\"\\t\")[0]: line.split(\"\\t\")[1]\n",
    "        for line in annotations\n",
    "    }\n",
    "with open(val_dir / \"val_annotations.txt\", \"r\") as f:\n",
    "    val_mapping = filter_annotation(f)\n",
    "print(f\"[INFO] Loaded val annotations: {len(val_mapping)}\")\n",
    "\n",
    "# Load data\n",
    "val_data = []\n",
    "for img in os.listdir(val_dir/\"images\"):\n",
    "    val_data.append((val_dir/img, class_labels[val_mapping[img]]))\n",
    "print(f\"[INFO] Loaded val data: {len(val_data)}\")"
   ]
  },
  {
   "cell_type": "code",
   "execution_count": 5,
   "id": "05254502-df79-4210-b6c4-888a7f2ad366",
   "metadata": {},
   "outputs": [],
   "source": [
    "# Store into a df\n",
    "train_df = pd.DataFrame(train_data, columns=[\"image_path\", \"label\"])\n",
    "val_df = pd.DataFrame(val_data, columns=[\"image_path\", \"label\"])\n",
    "# train_df.head()\n",
    "# val_df.head()\n"
   ]
  },
  {
   "cell_type": "markdown",
   "id": "2dda797b-bec2-41d2-a862-57b1a54b5892",
   "metadata": {},
   "source": [
    "## Understand the data\n",
    "\n",
    "Most of the important filtering has been done.\\\n",
    "We just need to know some basic metrics of the dataset, things like: class-distribution, etc"
   ]
  },
  {
   "cell_type": "code",
   "execution_count": 6,
   "id": "b625e44f-a117-48ed-a062-ea944ab4a151",
   "metadata": {},
   "outputs": [
    {
     "name": "stdout",
     "output_type": "stream",
     "text": [
      "<class 'pandas.core.frame.DataFrame'>\n",
      "RangeIndex: 100000 entries, 0 to 99999\n",
      "Data columns (total 2 columns):\n",
      " #   Column      Non-Null Count   Dtype \n",
      "---  ------      --------------   ----- \n",
      " 0   image_path  100000 non-null  object\n",
      " 1   label       100000 non-null  int64 \n",
      "dtypes: int64(1), object(1)\n",
      "memory usage: 1.5+ MB\n"
     ]
    }
   ],
   "source": [
    "train_df.info()"
   ]
  },
  {
   "cell_type": "code",
   "execution_count": 7,
   "id": "19b602a3-7ab4-4dc4-bd45-fdc7eecde7ff",
   "metadata": {},
   "outputs": [
    {
     "name": "stdout",
     "output_type": "stream",
     "text": [
      "<class 'pandas.core.frame.DataFrame'>\n",
      "RangeIndex: 10000 entries, 0 to 9999\n",
      "Data columns (total 2 columns):\n",
      " #   Column      Non-Null Count  Dtype \n",
      "---  ------      --------------  ----- \n",
      " 0   image_path  10000 non-null  object\n",
      " 1   label       10000 non-null  int64 \n",
      "dtypes: int64(1), object(1)\n",
      "memory usage: 156.4+ KB\n"
     ]
    }
   ],
   "source": [
    "val_df.info()"
   ]
  },
  {
   "cell_type": "code",
   "execution_count": 8,
   "id": "86d4926f-1a0d-469e-9e4e-b4dc354b2308",
   "metadata": {},
   "outputs": [
    {
     "data": {
      "text/plain": [
       "image_path    100000\n",
       "label            200\n",
       "dtype: int64"
      ]
     },
     "execution_count": 8,
     "metadata": {},
     "output_type": "execute_result"
    }
   ],
   "source": [
    "# Check for repetition and \"extra classes\"\n",
    "train_df.nunique()"
   ]
  },
  {
   "cell_type": "code",
   "execution_count": 12,
   "id": "8505cb71-b4ac-47ba-a0f5-c842f08ad08e",
   "metadata": {},
   "outputs": [
    {
     "data": {
      "text/plain": [
       "count    200.0\n",
       "mean     500.0\n",
       "std        0.0\n",
       "min      500.0\n",
       "25%      500.0\n",
       "50%      500.0\n",
       "75%      500.0\n",
       "max      500.0\n",
       "Name: count, dtype: float64"
      ]
     },
     "execution_count": 12,
     "metadata": {},
     "output_type": "execute_result"
    }
   ],
   "source": [
    "# Check class-distribution\n",
    "train_df[\"label\"].value_counts().sort_index().describe()"
   ]
  },
  {
   "cell_type": "markdown",
   "id": "85cf79bc-c644-4605-b674-2be1e4d5233e",
   "metadata": {},
   "source": [
    "No issues here"
   ]
  },
  {
   "cell_type": "code",
   "execution_count": 25,
   "id": "05c6aa69-2b9f-42a4-b016-60c06a56f808",
   "metadata": {},
   "outputs": [
    {
     "data": {
      "text/plain": [
       "[0, 1, 2, 3, 4]"
      ]
     },
     "execution_count": 25,
     "metadata": {},
     "output_type": "execute_result"
    }
   ],
   "source": [
    "# Define the class_names (mapping: idx -> class)\n",
    "class_names = list(class_labels.values())\n",
    "class_names[:5]"
   ]
  },
  {
   "cell_type": "markdown",
   "id": "e813b1ca-9c46-4605-a05c-1a0f28192eb4",
   "metadata": {},
   "source": [
    "Assuming some class-name would exist.\\\n",
    "Here the \"class name\" is a number."
   ]
  },
  {
   "cell_type": "code",
   "execution_count": 28,
   "id": "77e1c5f5-0caa-44d3-bf60-da92ebf43d4a",
   "metadata": {},
   "outputs": [
    {
     "name": "stdout",
     "output_type": "stream",
     "text": [
      "Image label: 176\n",
      "Image dims: (64, 64)\n"
     ]
    },
    {
     "data": {
      "image/jpeg": "[encoded data removed]",
      "image/png": "[encoded data removed]",
      "text/plain": [
       "<PIL.JpegImagePlugin.JpegImageFile image mode=RGB size=64x64>"
      ]
     },
     "execution_count": 28,
     "metadata": {},
     "output_type": "execute_result"
    }
   ],
   "source": [
    "import PIL\n",
    "import random\n",
    "\n",
    "# Get random image\n",
    "random_image_idx = random.choice(range(len(train_df[\"image_path\"])))\n",
    "random_image_path = train_df[\"image_path\"].iloc[random_image_idx]\n",
    "image = PIL.Image.open(random_image_path)\n",
    "label = train_df[\"label\"].iloc[random_image_idx]\n",
    "\n",
    "# Get some info about the image\n",
    "print(f\"Image label: {label}\")\n",
    "print(f\"Image dims: ({image.height}, {image.width})\")\n",
    "\n",
    "image"
   ]
  },
  {
   "cell_type": "code",
   "execution_count": 32,
   "id": "51959575-fe77-4f31-95f5-a1e5516f3214",
   "metadata": {
    "scrolled": true
   },
   "outputs": [
    {
     "name": "stdout",
     "output_type": "stream",
     "text": [
      "Image shape: (64, 64, 3)\n",
      "[[[ 56  98 148]\n",
      "  [ 58 100 150]\n",
      "  [ 62 104 154]\n",
      "  ...\n",
      "  [ 53  90 134]\n",
      "  [ 51  88 132]\n",
      "  [ 50  87 131]]\n",
      "\n",
      " [[ 59 101 151]\n",
      "  [ 60 102 152]\n",
      "  [ 62 104 154]\n",
      "  ...\n",
      "  [ 52  89 133]\n",
      "  [ 50  87 131]\n",
      "  [ 49  86 130]]\n",
      "\n",
      " [[ 60 102 152]\n",
      "  [ 60 102 152]\n",
      "  [ 61 103 153]\n",
      "  ...\n",
      "  [ 49  86 130]\n",
      "  [ 47  84 128]\n",
      "  [ 46  83 127]]\n",
      "\n",
      " ...\n",
      "\n",
      " [[210 224 224]\n",
      "  [223 237 237]\n",
      "  [157 171 172]\n",
      "  ...\n",
      "  [243 243 243]\n",
      "  [227 227 227]\n",
      "  [223 223 225]]\n",
      "\n",
      " [[115 135 136]\n",
      "  [180 198 200]\n",
      "  [160 178 180]\n",
      "  ...\n",
      "  [248 248 248]\n",
      "  [255 255 255]\n",
      "  [235 235 237]]\n",
      "\n",
      " [[150 171 174]\n",
      "  [136 157 160]\n",
      "  [147 166 172]\n",
      "  ...\n",
      "  [205 205 205]\n",
      "  [252 252 254]\n",
      "  [217 217 219]]]\n"
     ]
    }
   ],
   "source": [
    "# View the image as an array\n",
    "image_array = np.asarray(image)\n",
    "print(f\"Image shape: {image_array.shape}\")\n",
    "print(image_array)"
   ]
  },
  {
   "cell_type": "markdown",
   "id": "0851557d-11f1-4ca7-87a9-ca5bab20bbdd",
   "metadata": {},
   "source": [
    "## Preprocessing\n",
    "\n",
    "Things like dataloaders, transforms (for augmentation), etc.\\\n",
    "Will try to make this as close to the paper as possible (I may add things that I prefer too)."
   ]
  },
  {
   "cell_type": "code",
   "execution_count": null,
   "id": "1dcdf440-1014-470f-97ae-9c29408dee67",
   "metadata": {},
   "outputs": [],
   "source": [
    "from torch.utils.data import DataLoader  # to create torch DataLoaders\n",
    "from torchvision import transforms, datasets  # to create custom datasets and transforms\n",
    "\n",
    "data_transform = transforms"
   ]
  }
 ],
 "metadata": {
  "kernelspec": {
   "display_name": "Python (torch_kernel)",
   "language": "python",
   "name": "torch_kernel"
  },
  "language_info": {
   "codemirror_mode": {
    "name": "ipython",
    "version": 3
   },
   "file_extension": ".py",
   "mimetype": "text/x-python",
   "name": "python",
   "nbconvert_exporter": "python",
   "pygments_lexer": "ipython3",
   "version": "3.12.9"
  }
 },
 "nbformat": 4,
 "nbformat_minor": 5
}
